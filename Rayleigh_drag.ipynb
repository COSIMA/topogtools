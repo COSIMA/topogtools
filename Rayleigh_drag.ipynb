{
 "cells": [
  {
   "cell_type": "markdown",
   "metadata": {},
   "source": [
    "# Rayleigh drag\n",
    "Display closeup of Rayleigh drag (if any).\n",
    "\n",
    "Based on `/home/156/aek156/notebooks/github/aekiss/notebooks/bathymetry-closeup-KaraStr-Rayleighdamping.ipynb`\n",
    "https://github.com/aekiss/notebooks/blob/master/bathymetry-closeup-KaraStr-Rayleighdamping.ipynb\n",
    "\n",
    "and\n",
    "https://github.com/COSIMA/ACCESS-OM2-1-025-010deg-report/blob/master/figures/Rayleigh_drag/Rayleigh_drag.ipynb"
   ]
  },
  {
   "cell_type": "code",
   "execution_count": 1,
   "metadata": {},
   "outputs": [
    {
     "name": "stderr",
     "output_type": "stream",
     "text": [
      "/g/data3/hh5/public/apps/miniconda3/envs/analysis3-19.01/lib/python3.6/site-packages/dask/config.py:168: YAMLLoadWarning: calling yaml.load() without Loader=... is deprecated, as the default Loader is unsafe. Please read https://msg.pyyaml.org/load for full details.\n",
      "  data = yaml.load(f.read()) or {}\n",
      "/g/data3/hh5/public/apps/miniconda3/envs/analysis3-19.01/lib/python3.6/site-packages/distributed/config.py:20: YAMLLoadWarning: calling yaml.load() without Loader=... is deprecated, as the default Loader is unsafe. Please read https://msg.pyyaml.org/load for full details.\n",
      "  defaults = yaml.load(f)\n"
     ]
    }
   ],
   "source": [
    "import numpy as np\n",
    "import xarray as xr\n",
    "import matplotlib.pyplot as plt\n",
    "import re\n",
    "import os"
   ]
  },
  {
   "cell_type": "code",
   "execution_count": 2,
   "metadata": {},
   "outputs": [],
   "source": [
    "figdir = ''\n",
    "NOSYNC = 'NOSYNC/' # where to save figs we don't want to sync\n",
    "if not os.path.exists(NOSYNC):\n",
    "    os.makedirs(NOSYNC)\n",
    "def savefigure(fname):\n",
    "    plt.savefig(os.path.join(figdir, fname+'.png'),dpi=200, bbox_inches=\"tight\")  # comment out to disable saving\n",
    "    #plt.savefig(os.path.join(figdir, fname+'.pdf'),dpi=200, bbox_inches=\"tight\")  # comment out to disable saving\n",
    "    return"
   ]
  },
  {
   "cell_type": "code",
   "execution_count": 3,
   "metadata": {},
   "outputs": [],
   "source": [
    "path = '/g/data/ik11/inputs/access-om2/input_rc/mom_1deg/'\n",
    "path = '/scratch/v45/aek156/access-om2/archive/1deg_jra55_ryf_v2.0.0rc7/output000/ocean/'\n",
    "ftfile = path + 'field_table'\n",
    "# gridfile = xr.open_dataset(path + 'ocean_hgrid.nc')\n",
    "# gridfile = xr.open_dataset(path + 'ocean_grid.nc')\n",
    "# geolon_c = geolon_c.x\n",
    "# geolat_c = geolat_c.y\n",
    "# kmu = gridfile.kmu\n",
    "# hu = gridfile.hu  # hu has correct u-cell mask (kmu uses t-cell mask)\n",
    "\n",
    "geolon_c = xr.open_dataset(path + 'ocean-2d-geolon_c.nc').geolon_c\n",
    "geolat_c = xr.open_dataset(path + 'ocean-2d-geolat_c.nc').geolat_c\n",
    "kmu = xr.open_dataset(path + 'ocean-2d-kmu.nc').kmu\n",
    "hu = xr.open_dataset(path + 'ocean-2d-hu.nc').hu  # hu has correct u-cell mask (kmu uses t-cell mask)\n",
    "\n",
    "damp_table = ''\n",
    "with open(ftfile,\"r\") as f:\n",
    "    for line in f:\n",
    "        if line.startswith('\"rayleigh_damp_table\"'):\n",
    "            break\n",
    "    for line in f:\n",
    "        if line.startswith('\"rayleigh\"'):\n",
    "            damp_table += line\n",
    "        else:\n",
    "            break\n",
    "\n",
    "damp_table_ii = [ int(i)-1 for i in re.findall('itable=(\\d+)', damp_table) ]  # subtract 1 to index from 0\n",
    "damp_table_jj = [ int(j)-1 for j in re.findall('jtable=(\\d+)', damp_table) ]  # subtract 1 to index from 0\n",
    "damp_time = [ int(j) for j in re.findall('rayleigh_damp_table=(\\d+)', damp_table) ]\n",
    "ktable_1 = [ int(j) for j in re.findall('ktable_1=(\\d+)', damp_table) ]\n",
    "ktable_2 = [ int(j) for j in re.findall('ktable_2=(\\d+)', damp_table) ]\n",
    "\n",
    "# make damp time map; use kmu to get land mask\n",
    "dtm = hu.where(np.isnan(hu), 0)  # zero out ocean points\n",
    "for i, j, dt in zip(damp_table_ii, damp_table_jj, damp_time):\n",
    "    if not np.isnan(dtm[j][i]):\n",
    "        dtm[j][i] = dt  # put damp_time value in at every ocean point that has damping\n",
    "damp_time_map = dtm\n",
    "\n",
    "# make map of number of non-damped cells in each damped column\n",
    "undamped = hu.where(np.isnan(hu), 0)  # zero out ocean points\n",
    "for i, j, kt1, kt2 in zip(damp_table_ii, damp_table_jj, ktable_1, ktable_2):\n",
    "    if not np.isnan(undamped[j][i]):\n",
    "        undamped[j][i] = max(0, kmu[j][i] - kt2) + kt1 - 1"
   ]
  },
  {
   "cell_type": "code",
   "execution_count": 4,
   "metadata": {},
   "outputs": [
    {
     "data": {
      "image/png": "[encoded data removed]",
      "text/plain": [
       "<Figure size 720x360 with 2 Axes>"
      ]
     },
     "metadata": {
      "needs_background": "light"
     },
     "output_type": "display_data"
    }
   ],
   "source": [
    "# damping rate plots\n",
    "margin = 15  # grid cells\n",
    "if len(damp_time) > 0:\n",
    "    imin = min(damp_table_ii) - margin\n",
    "    imax = max(damp_table_ii) + margin\n",
    "    jmin = min(damp_table_jj) - margin\n",
    "    jmax = max(damp_table_jj) + margin\n",
    "    plt.figure(figsize=(10,5))\n",
    "    plt.imshow(damp_time_map, origin='lower', cmap=plt.get_cmap('cool'))\n",
    "    plt.colorbar()\n",
    "    plt.scatter(damp_table_ii,damp_table_jj, facecolors='none', edgecolors='k')\n",
    "    plt.xlim(imin,imax)\n",
    "    plt.ylim(jmin,jmax)\n",
    "    plt.title('Rayleigh damping time (s)')\n",
    "    plt.xlabel('i (indexed from 0)')\n",
    "    plt.ylabel('j (indexed from 0)')\n",
    "#     savefigure('Rayleigh_damp_time')"
   ]
  },
  {
   "cell_type": "code",
   "execution_count": 5,
   "metadata": {},
   "outputs": [
    {
     "data": {
      "image/png": "[encoded data removed]",
      "text/plain": [
       "<Figure size 720x360 with 2 Axes>"
      ]
     },
     "metadata": {
      "needs_background": "light"
     },
     "output_type": "display_data"
    }
   ],
   "source": [
    "# missing cell plots\n",
    "margin = 15  # grid cells\n",
    "maxundamped = int(undamped.max())\n",
    "\n",
    "if len(damp_time) > 0:\n",
    "    imin = min(damp_table_ii) - margin\n",
    "    imax = max(damp_table_ii) + margin\n",
    "    jmin = min(damp_table_jj) - margin\n",
    "    jmax = max(damp_table_jj) + margin\n",
    "    plt.figure(figsize=(10,5))\n",
    "    plt.imshow(undamped, origin='lower', cmap=plt.get_cmap('rainbow',maxundamped+1))\n",
    "    plt.colorbar(ticks=range(maxundamped+1))\n",
    "    plt.clim(-0.5, maxundamped+0.5)\n",
    "    plt.scatter(damp_table_ii,damp_table_jj, facecolors='none', edgecolors='k')\n",
    "    plt.xlim(imin,imax)\n",
    "    plt.ylim(jmin,jmax)\n",
    "    plt.title('undamped cells')\n",
    "    plt.xlabel('i (indexed from 0)')\n",
    "    plt.ylabel('j (indexed from 0)')\n",
    "#     savefigure('Rayleigh_undamped_cells')"
   ]
  }
 ],
 "metadata": {
  "kernelspec": {
   "display_name": "Python [conda env:analysis3-19.01]",
   "language": "python",
   "name": "conda-env-analysis3-19.01-py"
  },
  "language_info": {
   "codemirror_mode": {
    "name": "ipython",
    "version": 3
   },
   "file_extension": ".py",
   "mimetype": "text/x-python",
   "name": "python",
   "nbconvert_exporter": "python",
   "pygments_lexer": "ipython3",
   "version": "3.6.7"
  }
 },
 "nbformat": 4,
 "nbformat_minor": 4
}
